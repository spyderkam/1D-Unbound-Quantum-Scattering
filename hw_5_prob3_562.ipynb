{
 "cells": [
  {
   "cell_type": "code",
   "execution_count": 1,
   "metadata": {},
   "outputs": [],
   "source": [
    "import numpy as np\n",
    "import matplotlib.pyplot as plt\n",
    "import os\n",
    "from scipy.optimize import curve_fit\n",
    "#import matplotlib.patches as mpatches #https://stackoverflow.com/questions/39500265/manually-add-legend-items-python-matplotlib\n",
    "import matplotlib.lines as mlines     # https://stackoverflow.com/questions/47391702/matplotlib-making-a-colored-markers-legend-from-scratch\n",
    "\n",
    "\n",
    "from scipy.special import lpmn, lpmv"
   ]
  },
  {
   "cell_type": "code",
   "execution_count": 2,
   "metadata": {},
   "outputs": [],
   "source": [
    "ħ, m = 1, 1\n",
    "\n",
    "def K1(E):         # k1 function\n",
    "    return np.sqrt(2*m*E / ħ)\n",
    "\n",
    "def K2(k1, R):     # k2 function\n",
    "    return k1*((1-np.sqrt(R))/(1+np.sqrt(R)))\n",
    "\n",
    "def V0(E, k2):     # V_0 function\n",
    "    return E - (ħ*k2)**2/(2*m)"
   ]
  },
  {
   "cell_type": "code",
   "execution_count": 3,
   "metadata": {},
   "outputs": [
    {
     "name": "stdout",
     "output_type": "stream",
     "text": [
      "  i        R            V            E       \n",
      "__________________________________________\n",
      "  0        1.0          1.80000      1.8     \n",
      "  1        1.0          1.90000      1.9     \n",
      "  2        1.0          2.00000      2.0     \n",
      "  3        0.52319      2.04587      2.1     \n",
      "  4        0.399        2.08789      2.2     \n",
      "  5        0.32312      2.12587      2.3     \n",
      "  6        0.26961      2.15967      2.4     \n",
      "  7        0.22912      2.18923      2.5     \n",
      "  8        0.19713      2.21452      2.6     \n",
      "  9        0.17113      2.23556      2.7     \n",
      "  10       0.14956      2.25238      2.8     \n",
      "  11       0.13139      2.26506      2.9     \n",
      "  12       0.11591      2.27372      3.0     \n",
      "  13       0.1026       2.27846      3.1     \n",
      "  14       0.09107      2.27942      3.2     \n",
      "  15       0.08103      2.27678      3.3     \n",
      "  16       0.07224      2.27069      3.4     \n",
      "  17       0.06451      2.26128      3.5     \n",
      "  18       0.0577       2.24885      3.6     \n",
      "  19       0.05167      2.23343      3.7     \n",
      "  20       0.04633      2.21538      3.8     \n",
      "  21       0.04158      2.19471      3.9     \n",
      "  22       0.03735      2.17167      4.0     \n",
      "  23       0.03358      2.14651      4.1     \n",
      "  24       0.03022      2.11953      4.2     \n",
      "  25       0.02721      2.09062      4.3     \n",
      "  26       0.02452      2.06023      4.4     \n",
      "  27       0.02211      2.02842      4.5     \n",
      "  28       0.01994      1.99503      4.6     \n",
      "  29       0.018        1.96084      4.7     \n",
      "  30       0.01626      1.92583      4.8     \n",
      "  31       0.01469      1.88973      4.9     \n",
      "  32       0.01328      1.85308      5.0     \n"
     ]
    }
   ],
   "source": [
    "fmt = '{:<1} {:<8} {:<12} {:<12} {:<8}'\n",
    "print(fmt.format('', 'i', 'R', 'V', 'E'))     # for printing later in this cell\n",
    "print('__________________________________________')\n",
    "\n",
    "\n",
    "scatter = os.path.join(os.sep, 'C:', 'scat.txt')#'c:', 'kamyar', 'scat.txt')\n",
    "scatter = np.loadtxt(scatter)\n",
    "E = scatter[:, 0]\n",
    "R = scatter[:, 1]\n",
    "\n",
    "k1 = []     # initialize k1\n",
    "V = []      # initialize V\n",
    "for ii in enumerate(E):\n",
    "    i = ii[0]     # because why not\n",
    "    k1.append( K1(E[i]) )\n",
    "    V.append( V0(E[i], K2(k1[i], R[i])) )\n",
    "    print(fmt.format('', i, R[i], '%0.5f' % V[i], E[i]))"
   ]
  },
  {
   "cell_type": "code",
   "execution_count": 4,
   "metadata": {
    "scrolled": false
   },
   "outputs": [
    {
     "data": {
      "image/png": "[encoded data removed]",
      "text/plain": [
       "<Figure size 432x288 with 1 Axes>"
      ]
     },
     "metadata": {
      "needs_background": "light"
     },
     "output_type": "display_data"
    }
   ],
   "source": [
    "um = (0, 1)\n",
    "ok = (1, 1)\n",
    "# um and ok are obvious. use brain...\n",
    "\n",
    "plt.plot(E/V, R, um, ok, color='blue')\n",
    "plt.plot(E/V, 1-R, color='red')\n",
    "\n",
    "\n",
    "plt.xlabel(r'$E/V$', fontsize=15)\n",
    "plt.ylabel(r\"$R,T$\", fontsize=15)\n",
    "\n",
    "blue_line = mlines.Line2D([], [], color='blue',\n",
    "                          markersize=10, label='R')\n",
    "red_line = mlines.Line2D([], [], color='red',\n",
    "                          markersize=10, label='T')\n",
    "plt.legend(handles=[blue_line, red_line])\n",
    "plt.show()     # ???matplotlib turn off axis numbers???"
   ]
  },
  {
   "cell_type": "code",
   "execution_count": 5,
   "metadata": {},
   "outputs": [
    {
     "data": {
      "image/png": "[encoded data removed]",
      "text/plain": [
       "<Figure size 432x288 with 1 Axes>"
      ]
     },
     "metadata": {
      "needs_background": "light"
     },
     "output_type": "display_data"
    },
    {
     "name": "stdout",
     "output_type": "stream",
     "text": [
      "PARAMETERS:\n",
      "   a = 1.701 ± 0.062\n",
      "   b = 1.614 ± 0.064\n",
      "   c = 1.614 ± 0.014\n"
     ]
    }
   ],
   "source": [
    "x = np.linspace(0, 1, len(V))\n",
    "plt.scatter(x, V, color='black')\n",
    "\n",
    "\n",
    "def func(x, a, b, c):\n",
    "    return -a*x**2 + b*x + c\n",
    "    \n",
    "popt, pcov = curve_fit(func, x, V)\n",
    "plt.plot(x, func(x, *popt), 'r-', label = 'fit: a=%.3f, b=%.3f, c=%.3f' % tuple(popt), color='darkorange')\n",
    "\n",
    "plt.xlabel(r'$V(x)=-ax^2+bx+c$', fontsize=15) #change to just r\"$V$\"\n",
    "plt.ylabel(r\"$x$\", fontsize=15)\n",
    "plt.legend() #prop={'size': 10}, loc=8\n",
    "plt.show()\n",
    "\n",
    "print(\"PARAMETERS:\")\n",
    "print('   a =', '%.3f' % popt[0], '±', \"%.3f\" % pcov[0,0]**0.5) #THE 2ND HALF IS CODE FOR CALCULATING FIT UNCERTAINTY\n",
    "print('   b =', \"%0.3f\" % popt[1], '±', \"%.3f\" % pcov[1,1]**0.5)\n",
    "print('   c =', \"%0.3f\" % popt[1], '±', \"%.3f\" % pcov[2,2]**0.5)"
   ]
  },
  {
   "cell_type": "markdown",
   "metadata": {},
   "source": [
    "<br>"
   ]
  },
  {
   "cell_type": "markdown",
   "metadata": {},
   "source": [
    "print('It will cost $%d dollars.' % 95)\n",
    "print('It will cost ${0} dollars.'.format(95))\n",
    "print('%d days and %d nights.' % (40, 40))\n",
    "print(\"'{0}' is longer than '{1}.'\".format(\"Kam's dick\", \"Jack's dick\"))"
   ]
  },
  {
   "cell_type": "markdown",
   "metadata": {},
   "source": [
    "<br>"
   ]
  },
  {
   "cell_type": "markdown",
   "metadata": {},
   "source": [
    "## Problem 2\n",
    "### Part (b)"
   ]
  },
  {
   "cell_type": "code",
   "execution_count": 6,
   "metadata": {},
   "outputs": [
    {
     "name": "stdout",
     "output_type": "stream",
     "text": [
      "[[ 1.    0.8   0.46  0.08]\n",
      " [ 0.   -0.6  -1.44 -1.98]\n",
      " [ 0.    0.    1.08  4.32]]\n"
     ]
    }
   ],
   "source": [
    "print(lpmn(2, 3, 0.8)[0])     #0:k row, l=0:l column"
   ]
  },
  {
   "cell_type": "markdown",
   "metadata": {},
   "source": [
    "<null>"
   ]
  },
  {
   "cell_type": "code",
   "execution_count": 7,
   "metadata": {
    "scrolled": false
   },
   "outputs": [],
   "source": [
    "l = 25                                 # order of problem marix as well as associated Legendre polynomial\n",
    "yy = np.linspace(-.9999, .9999, 100000)     #range of y values -1 <= y <= +1 w/200 even spacing \n",
    "\n",
    "aLp_roots = []          # initialize [a]ssociated [L]egendre [p]olynomial [roots]\n",
    "P_store = []            # initialize P_store matrix which stores P^l_k values\n",
    "for k in range(l):      # 0 <= k <= l ... will delete [0] element later and a 25th element w/actual 25 index\n",
    "    P_store.append([])  # P_store is now further initialized to have l rows\n",
    "    for y in yy:\n",
    "        P_store[k].append(lpmv(k+1, l, y))     # k, l, y (order, degree, arg)\n",
    "    for i, P in enumerate(P_store[k]):         \n",
    "        P_store[k][i] = abs(P)                 # makes finding 0s easier; otherwise messes up P_store... don't care\n",
    "    aLp_roots.append(np.min(P_store))          # append the roots into aLp_roots"
   ]
  },
  {
   "cell_type": "code",
   "execution_count": 8,
   "metadata": {
    "scrolled": true
   },
   "outputs": [
    {
     "data": {
      "text/plain": [
       "[8.352401797750986e-05,\n",
       " 8.352401797750986e-05,\n",
       " 8.352401797750986e-05,\n",
       " 8.352401797750986e-05,\n",
       " 8.352401797750986e-05,\n",
       " 8.352401797750986e-05,\n",
       " 8.352401797750986e-05,\n",
       " 8.352401797750986e-05,\n",
       " 8.352401797750986e-05,\n",
       " 8.352401797750986e-05,\n",
       " 8.352401797750986e-05,\n",
       " 8.352401797750986e-05,\n",
       " 8.352401797750986e-05,\n",
       " 8.352401797750986e-05,\n",
       " 8.352401797750986e-05,\n",
       " 8.352401797750986e-05,\n",
       " 2.7023065329536762e-05,\n",
       " 3.6522263442702266e-06,\n",
       " 4.1868539185430156e-07,\n",
       " 3.9971555260842277e-08,\n",
       " 3.0958934254989107e-09,\n",
       " 1.870875670079063e-10,\n",
       " 8.283254692715369e-12,\n",
       " 2.391857131609107e-13,\n",
       " 3.3828505138542234e-15]"
      ]
     },
     "execution_count": 8,
     "metadata": {},
     "output_type": "execute_result"
    }
   ],
   "source": [
    "aLp_roots     #https://math.stackexchange.com/questions/616965/finite-element-method-for-the-particle-in-a-box-problem-in-quantum-mechanics"
   ]
  },
  {
   "cell_type": "code",
   "execution_count": 9,
   "metadata": {},
   "outputs": [
    {
     "name": "stdout",
     "output_type": "stream",
     "text": [
      "748\n"
     ]
    }
   ],
   "source": [
    "l = 25                                 # order of problem marix as well as associated Legendre polynomial\n",
    "yy = np.linspace(-.9, .9, 100000)     #range of y values -1 <= y <= +1 w/200 even spacing \n",
    "\n",
    "aLp_roots = []          # initialize [a]ssociated [L]egendre [p]olynomial [roots]\n",
    "P_store = []            # initialize P_store matrix which stores P^l_k values\n",
    "for k in range(l):      # 0 <= k <= l ... will delete [0] element later w/k+1 line below. Now actually have 1:25 dimension\n",
    "    P_store.append([])  # P_store is now further initialized to have l rows\n",
    "    for y in yy:\n",
    "        P_store[k].append(lpmv(k+1, l, y))     # k, l, y (order, degree, arg)\n",
    "    for i, P in enumerate(P_store[k]):         \n",
    "        if -0.05 < P_store[k][i] < 0.05:                  \n",
    "            #print(P_store[k][i])\n",
    "            aLp_roots.append(yy[i])\n",
    "print(len(aLp_roots))"
   ]
  },
  {
   "cell_type": "code",
   "execution_count": 10,
   "metadata": {},
   "outputs": [
    {
     "name": "stdout",
     "output_type": "stream",
     "text": [
      "-4.0844413478425246e+27\n"
     ]
    }
   ],
   "source": [
    "print(np.min(P_store[20]))"
   ]
  },
  {
   "cell_type": "code",
   "execution_count": 11,
   "metadata": {},
   "outputs": [
    {
     "name": "stdout",
     "output_type": "stream",
     "text": [
      "748\n",
      "\n",
      "[-0.8666816668166681, -0.8666636666366664, -0.8666456664566646, -0.8666276662766628, -0.866609666096661, -0.8665916659166591, -0.8665736657366574, -0.8665556655566555, -0.8665376653766538, -0.866519665196652, -0.8665016650166502, -0.8664836648366484, -0.8664656646566465, -0.8664476644766448, -0.866429664296643, -0.8664116641166412, -0.8663936639366394, -0.8663756637566375, -0.8663576635766358, -0.7986949869498695, -0.7986769867698678, -0.7986589865898659, -0.7986409864098641, -0.7986229862298623, -0.7986049860498605, -0.7985869858698587, -0.7985689856898569, -0.7985509855098551, -0.7985329853298533, -0.7985149851498515, -0.7984969849698498, -0.7984789847898479, -0.7984609846098462, -0.7984429844298443, -0.7984249842498425, -0.7984069840698407, -0.7983889838898389, -0.7983709837098372, -0.7983529835298353, -0.7983349833498335, -0.7983169831698317, -0.7982989829898299, -0.7982809828098281, -0.7982629826298263, -0.7185941859418594, -0.7185761857618577, -0.7185581855818558, -0.718540185401854, -0.7185221852218522, -0.7185041850418504, -0.7184861848618487, -0.7184681846818468, -0.7184501845018451, -0.7184321843218432, -0.7184141841418414, -0.7183961839618396, -0.7183781837818378, -0.7183601836018361, -0.7183421834218342, -0.7183241832418324, -0.7183061830618307, -0.7182881828818288, -0.718270182701827, -0.7182521825218252, -0.7182341823418235, -0.7182161821618216, -0.7181981819818198, -0.7181801818018181, -0.7181621816218162, -0.7181441814418145, -0.7181261812618126, -0.7181081810818108, -0.718090180901809, -0.7180721807218072, -0.7180541805418055, -0.6276032760327603, -0.6275852758527585, -0.6275672756727567, -0.627549275492755, -0.6275312753127531, -0.6275132751327513, -0.6274952749527496, -0.6274772747727477, -0.6274592745927459, -0.6274412744127441, -0.6274232742327424, -0.6274052740527405, -0.6273872738727387, -0.627369273692737, -0.6273512735127351, -0.6273332733327333, -0.6273152731527316, -0.6272972729727297, -0.6272792727927279, -0.6272612726127261, -0.6272432724327244, -0.6272252722527225, -0.6272072720727208, -0.627189271892719, -0.6271712717127171, -0.6271532715327153, -0.6271352713527135, -0.6271172711727118, -0.6270992709927099, -0.6270812708127081, -0.6270632706327064, -0.6270452704527045, -0.6270272702727027, -0.6270092700927009, -0.6269912699126992, -0.6269732697326973, -0.6269552695526955, -0.5271082710827109, -0.527090270902709, -0.5270722707227072, -0.5270542705427055, -0.5270362703627036, -0.5270182701827018, -0.5270002700027, -0.5269822698226982, -0.5269642696426964, -0.5269462694626946, -0.5269282692826929, -0.526910269102691, -0.5268922689226891, -0.5268742687426875, -0.5268562685626856, -0.5268382683826838, -0.526820268202682, -0.5268022680226803, -0.5267842678426784, -0.5267662676626766, -0.5267482674826749, -0.526730267302673, -0.5267122671226712, -0.5266942669426694, -0.5266762667626677, -0.5266582665826658, -0.526640266402664, -0.5266222662226623, -0.5266042660426604, -0.5265862658626586, -0.5265682656826568, -0.526550265502655, -0.5265322653226532, -0.5265142651426514, -0.5264962649626497, -0.5264782647826478, -0.5264602646026459, -0.5264422644226443, -0.5264242642426424, -0.5264062640626406, -0.5263882638826388, -0.5263702637026371, -0.4186211862118621, -0.4186031860318603, -0.4185851858518585, -0.4185671856718567, -0.41854918549185494, -0.4185311853118531, -0.4185131851318513, -0.4184951849518495, -0.4184771847718477, -0.4184591845918459, -0.41844118441184414, -0.4184231842318423, -0.4184051840518405, -0.4183871838718387, -0.4183691836918369, -0.4183511835118351, -0.41833318333183334, -0.4183151831518315, -0.4182971829718297, -0.4182791827918279, -0.4182611826118261, -0.4182431824318243, -0.41822518225182254, -0.4182071820718207, -0.4181891818918189, -0.4181711817118171, -0.4181531815318153, -0.4181351813518135, -0.41811718117181174, -0.4180991809918099, -0.4180811808118081, -0.4180631806318063, -0.4180451804518045, -0.4180271802718027, -0.41800918009180094, -0.4179911799117991, -0.4179731797317973, -0.4179551795517955, -0.4179371793717937, -0.4179191791917919, -0.41790117901179014, -0.4178831788317883, -0.4178651786517865, -0.4178471784717847, -0.4178291782917829, -0.4178111781117811, -0.41779317793177934, -0.303780037800378, -0.30376203762037624, -0.30374403744037437, -0.3037260372603726, -0.30370803708037075, -0.303690036900369, -0.30367203672036724, -0.3036540365403654, -0.3036360363603636, -0.30361803618036176, -0.30360003600036, -0.30358203582035814, -0.3035640356403564, -0.30354603546035464, -0.30352803528035277, -0.303510035100351, -0.30349203492034915, -0.3034740347403474, -0.30345603456034564, -0.3034380343803438, -0.303420034200342, -0.30340203402034016, -0.3033840338403384, -0.30336603366033654, -0.3033480334803348, -0.30333003330033304, -0.30331203312033117, -0.3032940329403294, -0.30327603276032755, -0.3032580325803258, -0.30324003240032404, -0.3032220322203222, -0.3032040320403204, -0.30318603186031856, -0.3031680316803168, -0.30315003150031494, -0.3031320313203132, -0.30311403114031144, -0.30309603096030957, -0.3030780307803078, -0.30306003060030595, -0.3030420304203042, -0.30302403024030244, -0.3030060300603006, -0.3029880298802988, -0.30297002970029696, -0.3029520295202952, -0.30293402934029334, -0.3029160291602916, -0.30289802898028984, -0.30288002880028797, -0.18431284312843121, -0.18429484294842946, -0.1842768427684277, -0.18425884258842584, -0.1842408424084241, -0.18422284222842222, -0.18420484204842047, -0.18418684186841872, -0.18416884168841685, -0.1841508415084151, -0.18413284132841323, -0.18411484114841148, -0.18409684096840961, -0.18407884078840786, -0.1840608406084061, -0.18404284042840424, -0.1840248402484025, -0.18400684006840062, -0.18398883988839887, -0.18397083970839712, -0.18395283952839525, -0.1839348393483935, -0.18391683916839163, -0.18389883898838988, -0.18388083880838801, -0.18386283862838626, -0.1838448384483845, -0.18382683826838264, -0.1838088380883809, -0.18379083790837902, -0.18377283772837727, -0.18375483754837552, -0.18373683736837365, -0.1837188371883719, -0.18370083700837003, -0.18368283682836828, -0.18366483664836641, -0.18364683646836466, -0.1836288362883629, -0.18361083610836104, -0.1835928359283593, -0.18357483574835742, -0.18355683556835567, -0.18353883538835392, -0.18352083520835205, -0.1835028350283503, -0.18348483484834843, -0.18346683466834668, -0.18344883448834481, -0.18343083430834306, -0.1834128341283413, -0.18339483394833944, -0.06207362073620737, -0.062055620556205504, -0.06203762037620375, -0.062019620196201886, -0.06200162001620013, -0.06198361983619838, -0.06196561965619651, -0.06194761947619476, -0.061929619296192895, -0.06191161911619114, -0.06189361893618939, -0.06187561875618752, -0.06185761857618577, -0.061839618396183904, -0.06182161821618215, -0.061803618036180286, -0.06178561785617853, -0.06176761767617678, -0.06174961749617491, -0.06173161731617316, -0.061713617136171295, -0.06169561695616954, -0.06167761677616779, -0.06165961659616592, -0.06164161641616417, -0.061623616236162304, -0.06160561605616055, -0.061587615876158686, -0.06156961569615693, -0.06155161551615518, -0.06153361533615331, -0.06151561515615156, -0.061497614976149695, -0.06147961479614794, -0.06146161461614619, -0.06144361443614432, -0.06142561425614257, -0.061407614076140704, -0.06138961389613895, -0.061371613716137086, -0.06135361353613533, -0.06133561335613358, -0.06131761317613171, -0.06129961299612996, -0.061281612816128095, -0.06126361263612634, -0.06124561245612459, -0.06122761227612272, -0.06120961209612097, -0.061191611916119104, -0.06117361173611735, -0.061155611556115486, -0.06113761137611373, -0.06111961119611198, 0.06111961119611198, 0.06113761137611384, 0.0611556115561156, 0.06117361173611735, 0.061191611916119215, 0.06120961209612097, 0.061227612276122834, 0.06124561245612459, 0.06126361263612634, 0.061281612816128206, 0.06129961299612996, 0.061317613176131824, 0.06133561335613358, 0.06135361353613544, 0.0613716137161372, 0.06138961389613895, 0.061407614076140815, 0.06142561425614257, 0.061443614436144434, 0.06146161461614619, 0.06147961479614794, 0.061497614976149806, 0.06151561515615156, 0.061533615336153424, 0.06155161551615518, 0.06156961569615704, 0.0615876158761588, 0.06160561605616055, 0.061623616236162415, 0.06164161641616417, 0.061659616596166034, 0.06167761677616779, 0.06169561695616954, 0.061713617136171406, 0.06173161731617316, 0.061749617496175024, 0.06176761767617678, 0.06178561785617864, 0.0618036180361804, 0.06182161821618215, 0.061839618396184015, 0.06185761857618577, 0.061875618756187634, 0.06189361893618939, 0.06191161911619114, 0.061929619296193006, 0.06194761947619476, 0.061965619656196624, 0.06198361983619838, 0.06200162001620024, 0.062019620196202, 0.06203762037620375, 0.062055620556205615, 0.06207362073620737, 0.18339483394833944, 0.1834128341283413, 0.18343083430834317, 0.18344883448834481, 0.18346683466834668, 0.18348483484834854, 0.1835028350283504, 0.18352083520835205, 0.18353883538835392, 0.18355683556835578, 0.18357483574835742, 0.1835928359283593, 0.18361083610836115, 0.18362883628836302, 0.18364683646836466, 0.18366483664836653, 0.1836828368283684, 0.18370083700837003, 0.1837188371883719, 0.18373683736837376, 0.18375483754837563, 0.18377283772837727, 0.18379083790837913, 0.183808838088381, 0.18382683826838264, 0.1838448384483845, 0.18386283862838637, 0.18388083880838801, 0.18389883898838988, 0.18391683916839174, 0.1839348393483936, 0.18395283952839525, 0.18397083970839712, 0.18398883988839898, 0.18400684006840062, 0.1840248402484025, 0.18404284042840435, 0.18406084060840622, 0.18407884078840786, 0.18409684096840973, 0.1841148411484116, 0.18413284132841323, 0.1841508415084151, 0.18416884168841696, 0.18418684186841883, 0.18420484204842047, 0.18422284222842233, 0.1842408424084242, 0.18425884258842584, 0.1842768427684277, 0.18429484294842957, 0.18431284312843144, 0.3028800288002881, 0.30289802898028995, 0.3029160291602916, 0.30293402934029345, 0.3029520295202953, 0.30297002970029696, 0.3029880298802988, 0.3030060300603007, 0.30302403024030256, 0.3030420304203042, 0.30306003060030606, 0.3030780307803079, 0.30309603096030957, 0.30311403114031144, 0.3031320313203133, 0.30315003150031494, 0.3031680316803168, 0.30318603186031867, 0.30320403204032054, 0.3032220322203222, 0.30324003240032404, 0.3032580325803259, 0.30327603276032755, 0.3032940329403294, 0.3033120331203313, 0.30333003330033315, 0.3033480334803348, 0.30336603366033665, 0.3033840338403385, 0.30340203402034016, 0.303420034200342, 0.3034380343803439, 0.30345603456034576, 0.3034740347403474, 0.30349203492034926, 0.3035100351003511, 0.30352803528035277, 0.30354603546035464, 0.3035640356403565, 0.30358203582035814, 0.30360003600036, 0.30361803618036187, 0.30363603636036374, 0.3036540365403654, 0.30367203672036724, 0.3036900369003691, 0.30370803708037075, 0.3037260372603726, 0.3037440374403745, 0.30376203762037635, 0.303780037800378, 0.4177931779317793, 0.41781117811178115, 0.417829178291783, 0.4178471784717849, 0.4178651786517865, 0.4178831788317884, 0.41790117901179025, 0.4179191791917919, 0.41793717937179375, 0.4179551795517956, 0.41797317973179726, 0.4179911799117991, 0.418009180091801, 0.41802718027180286, 0.4180451804518045, 0.41806318063180636, 0.41808118081180823, 0.41809918099180987, 0.41811718117181174, 0.4181351813518136, 0.41815318153181547, 0.4181711817118171, 0.418189181891819, 0.41820718207182084, 0.4182251822518225, 0.41824318243182435, 0.4182611826118262, 0.4182791827918281, 0.4182971829718297, 0.4183151831518316, 0.41833318333183345, 0.4183511835118351, 0.41836918369183695, 0.4183871838718388, 0.41840518405184046, 0.4184231842318423, 0.4184411844118442, 0.41845918459184606, 0.4184771847718477, 0.41849518495184956, 0.41851318513185143, 0.41853118531185307, 0.41854918549185494, 0.4185671856718568, 0.41858518585185867, 0.4186031860318603, 0.4186211862118622, 0.5263702637026372, 0.5263882638826388, 0.5264062640626407, 0.5264242642426425, 0.5264422644226442, 0.526460264602646, 0.5264782647826479, 0.5264962649626498, 0.5265142651426514, 0.5265322653226533, 0.5265502655026552, 0.5265682656826568, 0.5265862658626587, 0.5266042660426605, 0.5266222662226624, 0.526640266402664, 0.5266582665826659, 0.5266762667626678, 0.5266942669426694, 0.5267122671226713, 0.5267302673026731, 0.5267482674826748, 0.5267662676626766, 0.5267842678426785, 0.5268022680226804, 0.526820268202682, 0.5268382683826839, 0.5268562685626857, 0.5268742687426874, 0.5268922689226893, 0.5269102691026911, 0.526928269282693, 0.5269462694626946, 0.5269642696426965, 0.5269822698226984, 0.5270002700027, 0.5270182701827019, 0.5270362703627037, 0.5270542705427056, 0.5270722707227072, 0.5270902709027091, 0.527108271082711, 0.6269552695526955, 0.6269732697326974, 0.6269912699126993, 0.6270092700927009, 0.6270272702727028, 0.6270452704527046, 0.6270632706327065, 0.6270812708127081, 0.62709927099271, 0.6271172711727119, 0.6271352713527135, 0.6271532715327154, 0.6271712717127172, 0.6271892718927189, 0.6272072720727208, 0.6272252722527226, 0.6272432724327245, 0.6272612726127261, 0.627279272792728, 0.6272972729727299, 0.6273152731527315, 0.6273332733327334, 0.6273512735127352, 0.6273692736927371, 0.6273872738727387, 0.6274052740527406, 0.6274232742327425, 0.6274412744127441, 0.627459274592746, 0.6274772747727478, 0.6274952749527497, 0.6275132751327513, 0.6275312753127532, 0.6275492754927551, 0.6275672756727567, 0.6275852758527586, 0.6276032760327604, 0.7180541805418056, 0.7180721807218072, 0.7180901809018091, 0.718108181081811, 0.7181261812618126, 0.7181441814418145, 0.7181621816218163, 0.7181801818018182, 0.7181981819818198, 0.7182161821618217, 0.7182341823418236, 0.7182521825218252, 0.7182701827018271, 0.7182881828818289, 0.7183061830618306, 0.7183241832418324, 0.7183421834218343, 0.7183601836018362, 0.7183781837818378, 0.7183961839618397, 0.7184141841418415, 0.7184321843218432, 0.7184501845018451, 0.7184681846818469, 0.7184861848618488, 0.7185041850418504, 0.7185221852218523, 0.7185401854018542, 0.7185581855818558, 0.7185761857618577, 0.7185941859418595, 0.7982629826298263, 0.7982809828098282, 0.79829898298983, 0.7983169831698317, 0.7983349833498335, 0.7983529835298354, 0.7983709837098373, 0.7983889838898389, 0.7984069840698408, 0.7984249842498427, 0.7984429844298443, 0.7984609846098462, 0.798478984789848, 0.7984969849698497, 0.7985149851498515, 0.7985329853298534, 0.7985509855098553, 0.7985689856898569, 0.7985869858698588, 0.7986049860498606, 0.7986229862298623, 0.7986409864098641, 0.798658986589866, 0.7986769867698679, 0.7986949869498695, 0.8663576635766358, 0.8663756637566377, 0.8663936639366395, 0.8664116641166412, 0.866429664296643, 0.8664476644766449, 0.8664656646566465, 0.8664836648366484, 0.8665016650166503, 0.8665196651966521, 0.8665376653766538, 0.8665556655566556, 0.8665736657366575, 0.8665916659166591, 0.866609666096661, 0.8666276662766629, 0.8666456664566647, 0.8666636666366664, 0.8666816668166683, -0.8977679776797768, -0.8360273602736028, -0.7616146161461614, -0.7615966159661597, -0.6756457564575646, -0.5794527945279453, -0.5794347943479434, -0.4744757447574476, -0.4744577445774458, -0.36229862298622983, -0.3622806228062281, -0.2446314463144631, -0.24461344613446134, -0.12325623256232565, -0.12323823238232379, -9.000090000821359e-06, 9.000090000932381e-06, 0.1232382323823239, 0.12325623256232576, 0.24461344613446145, 0.2446314463144631, 0.3622806228062282, 0.36229862298622983, 0.47445774457744594, 0.4744757447574476, 0.5794347943479435, 0.5794527945279454, 0.6756457564575648, 0.7615966159661597, 0.7616146161461615, 0.8360273602736029, 0.8977679776797768]\n"
     ]
    }
   ],
   "source": [
    "print(len(aLp_roots))\n",
    "print('')\n",
    "print(aLp_roots)"
   ]
  },
  {
   "cell_type": "code",
   "execution_count": 12,
   "metadata": {},
   "outputs": [
    {
     "name": "stdout",
     "output_type": "stream",
     "text": [
      "325\n"
     ]
    }
   ],
   "source": [
    "m, mm = 25, 0\n",
    "while m > 0:\n",
    "    mm =  mm + (m)\n",
    "    m -= 1\n",
    "print(mm)"
   ]
  },
  {
   "cell_type": "code",
   "execution_count": 13,
   "metadata": {
    "scrolled": true
   },
   "outputs": [
    {
     "name": "stderr",
     "output_type": "stream",
     "text": [
      "IOPub data rate exceeded.\n",
      "The notebook server will temporarily stop sending output\n",
      "to the client in order to avoid crashing it.\n",
      "To change this limit, set the config variable\n",
      "`--NotebookApp.iopub_data_rate_limit`.\n",
      "\n",
      "Current values:\n",
      "NotebookApp.iopub_data_rate_limit=1000000.0 (bytes/sec)\n",
      "NotebookApp.rate_limit_window=3.0 (secs)\n",
      "\n"
     ]
    }
   ],
   "source": [
    "l = 25                                 # order of problem marix as well as associated Legendre polynomial\n",
    "yy = np.linspace(-.9, .9, 100000)     #range of y values -1 <= y <= +1 w/200 even spacing \n",
    "\n",
    "aLp_roots = []          # initialize [a]ssociated [L]egendre [p]olynomial [roots]\n",
    "P_store = []            # initialize P_store matrix which stores P^l_k values\n",
    "for k in range(l):      # 0 <= k <= l ... will delete [0] element later w/k+1 line below. Now actually have 1:25 dimension\n",
    "    P_store.append([])  # P_store is now further initialized to have l rows\n",
    "    for y in yy:\n",
    "        P_store[k].append(lpmv(k+1, l, y))     # k, l, y (order, degree, arg)\n",
    "print(P_store)\n",
    "        "
   ]
  },
  {
   "cell_type": "code",
   "execution_count": 14,
   "metadata": {},
   "outputs": [
    {
     "data": {
      "text/plain": [
       "[0, 3]"
      ]
     },
     "execution_count": 14,
     "metadata": {},
     "output_type": "execute_result"
    }
   ],
   "source": [
    ">>> a = [2,4,5,2]\n",
    ">>> min_value = min(a)\n",
    ">>> [i for i, x in enumerate(a) if x == min_value]\n",
    "[0, 3]"
   ]
  }
 ],
 "metadata": {
  "kernelspec": {
   "display_name": "Python 3",
   "language": "python",
   "name": "python3"
  },
  "language_info": {
   "codemirror_mode": {
    "name": "ipython",
    "version": 3
   },
   "file_extension": ".py",
   "mimetype": "text/x-python",
   "name": "python",
   "nbconvert_exporter": "python",
   "pygments_lexer": "ipython3",
   "version": "3.7.1"
  }
 },
 "nbformat": 4,
 "nbformat_minor": 2
}
